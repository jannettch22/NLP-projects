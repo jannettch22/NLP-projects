{
 "cells": [
  {
   "cell_type": "markdown",
   "metadata": {},
   "source": [
    "# Text Summarization using TFIDF"
   ]
  },
  {
   "cell_type": "code",
   "execution_count": 1,
   "metadata": {},
   "outputs": [
    {
     "name": "stderr",
     "output_type": "stream",
     "text": [
      "[nltk_data] Downloading package stopwords to C:\\Users\\jannett\n",
      "[nltk_data]     chabbeh\\AppData\\Roaming\\nltk_data...\n",
      "[nltk_data]   Package stopwords is already up-to-date!\n",
      "[nltk_data] Downloading package punkt to C:\\Users\\jannett\n",
      "[nltk_data]     chabbeh\\AppData\\Roaming\\nltk_data...\n",
      "[nltk_data]   Package punkt is already up-to-date!\n",
      "[nltk_data] Downloading package averaged_perceptron_tagger to\n",
      "[nltk_data]     C:\\Users\\jannett chabbeh\\AppData\\Roaming\\nltk_data...\n",
      "[nltk_data]   Package averaged_perceptron_tagger is already up-to-\n",
      "[nltk_data]       date!\n"
     ]
    }
   ],
   "source": [
    "import re\n",
    "import math\n",
    "import operator\n",
    "import nltk\n",
    "nltk.download('stopwords')\n",
    "nltk.download('punkt')\n",
    "from nltk.tokenize import sent_tokenize,word_tokenize\n",
    "nltk.download('averaged_perceptron_tagger')\n",
    "from nltk.corpus import stopwords\n",
    "Stopwords = set(stopwords.words('english'))"
   ]
  },
  {
   "cell_type": "code",
   "execution_count": 2,
   "metadata": {},
   "outputs": [],
   "source": [
    "DOCUMENT = \"\"\"Tunisia officially the Republic of Tunisia is a country in the\n",
    "Maghreb region of North Africa, covering 163,610 square kilometres (63,170 square\n",
    "miles). Its northernmost point, Cape Angela, is also the northernmost point on\n",
    "the African continent.\n",
    "Tunisia is bordered by Algeria to the west and southwest, Libya to the\n",
    "southeast, and the Mediterranean Sea to the north and east.\n",
    "Tunisia's population was 11.5 million in 2017.Tunisia's name is derived from its\n",
    "capital city, Tunis (Berber native name: Tunest), which is located on its\n",
    "northeast coast.\n",
    "Geographically, Tunisia contains the eastern end of the Atlas Mountains, and the\n",
    "northern reaches of the Sahara desert.\n",
    "Much of the rest of the country's land is fertile soil. Its 1,300 kilometres (810\n",
    "miles) of coastline include the African conjunction of\n",
    "the western and eastern parts of the Mediterranean Basin and, by means of the\n",
    "Sicilian Strait and Sardinian Channel, feature the African mainland's\n",
    "second and third nearest points to Europe after Gibraltar. \"\"\""
   ]
  },
  {
   "cell_type": "code",
   "execution_count": 3,
   "metadata": {},
   "outputs": [],
   "source": [
    "def remove_special_characters(text):\n",
    "    regex = r'[^a-zA-Z0-9\\s]'\n",
    "    text = re.sub(regex,'',text)\n",
    "    return text"
   ]
  },
  {
   "cell_type": "code",
   "execution_count": 4,
   "metadata": {},
   "outputs": [],
   "source": [
    "def freq(words):\n",
    "    words = [word.lower() for word in words]\n",
    "    dict_freq = {}\n",
    "    words_unique = []\n",
    "    for word in words:\n",
    "        if word not in words_unique:\n",
    "            words_unique.append(word)\n",
    "    for word in words_unique:\n",
    "        dict_freq[word] = words.count(word)\n",
    "    return dict_freq"
   ]
  },
  {
   "cell_type": "code",
   "execution_count": 5,
   "metadata": {},
   "outputs": [],
   "source": [
    "def pos_tagging(text):\n",
    "    pos_tag = nltk.pos_tag(text.split())\n",
    "    pos_tagged_noun_verb = []\n",
    "    for word,tag in pos_tag:\n",
    "        if tag == \"NN\" or tag == \"NNP\" or tag == \"NNS\" or tag == \"VB\" or tag ==\"VBD\" or tag == \"VBG\" or tag == \"VBN\" or tag == \"VBP\" or tag == \"VBZ\":\n",
    "            pos_tagged_noun_verb.append(word)\n",
    "    return pos_tagged_noun_verb"
   ]
  },
  {
   "cell_type": "code",
   "execution_count": 6,
   "metadata": {},
   "outputs": [],
   "source": [
    "def tf_score(word,sentence):\n",
    "    word_frequency_in_sentence = 0\n",
    "    len_sentence = len(sentence)\n",
    "    for word_in_sentence in sentence.split():\n",
    "        if word == word_in_sentence:\n",
    "            word_frequency_in_sentence = word_frequency_in_sentence + 1\n",
    "    tf = word_frequency_in_sentence/ len_sentence\n",
    "    return tf"
   ]
  },
  {
   "cell_type": "code",
   "execution_count": 7,
   "metadata": {},
   "outputs": [],
   "source": [
    "def idf_score(no_of_sentences,word,sentences):\n",
    "    no_of_sentence_containing_word = 0\n",
    "    for sentence in sentences:\n",
    "        sentence = remove_special_characters(str(sentence))\n",
    "        sentence = re.sub(r'\\d+', '', sentence)\n",
    "        sentence = sentence.split()\n",
    "        sentence = [word for word in sentence if word.lower() not in Stopwords\n",
    "        and len(word)>1]\n",
    "        sentence = [word.lower() for word in sentence]\n",
    "        if word in sentence:\n",
    "            no_of_sentence_containing_word = no_of_sentence_containing_word + 1\n",
    "    idf = math.log10(no_of_sentences/no_of_sentence_containing_word)\n",
    "    return idf"
   ]
  },
  {
   "cell_type": "code",
   "execution_count": 8,
   "metadata": {},
   "outputs": [],
   "source": [
    "def tf_idf_score(tf,idf):\n",
    "    return tf*idf\n",
    "def word_tfidf(dict_freq,word,sentences,sentence):\n",
    "    tf = tf_score(word,sentence)\n",
    "    idf = idf_score(len(sentences),word,sentences)\n",
    "    tf_idf = tf_idf_score(tf,idf)\n",
    "    return tf_idf"
   ]
  },
  {
   "cell_type": "code",
   "execution_count": 9,
   "metadata": {},
   "outputs": [],
   "source": [
    "def sentence_importance(sentence,dict_freq,sentences):\n",
    "    sentence_score = 0\n",
    "    sentence = remove_special_characters(str(sentence))\n",
    "    pos_tagged_sentence = []\n",
    "    pos_tagged_sentence = pos_tagging(sentence)\n",
    "    for word in pos_tagged_sentence:\n",
    "        if word.lower() not in Stopwords and word not in Stopwords and len(word)>1:\n",
    "            word = word.lower()\n",
    "            sentence_score = sentence_score +word_tfidf(dict_freq,word,sentences,sentence)\n",
    "    return sentence_score"
   ]
  },
  {
   "cell_type": "code",
   "execution_count": 11,
   "metadata": {},
   "outputs": [
    {
     "name": "stdout",
     "output_type": "stream",
     "text": [
      "['Tunisia officially the Republic of Tunisia is a country in the\\nMaghreb region of North Africa, covering 163,610 square kilometres (63,170 square\\nmiles).', 'Its northernmost point, Cape Angela, is also the northernmost point on\\nthe African continent.', 'Tunisia is bordered by Algeria to the west and southwest, Libya to the\\nsoutheast, and the Mediterranean Sea to the north and east.', \"Tunisia's population was 11.5 million in 2017.Tunisia's name is derived from its\\ncapital city, Tunis (Berber native name: Tunest), which is located on its\\nnortheast coast.\", 'Geographically, Tunisia contains the eastern end of the Atlas Mountains, and the\\nnorthern reaches of the Sahara desert.', \"Much of the rest of the country's land is fertile soil.\", \"Its 1,300 kilometres (810\\nmiles) of coastline include the African conjunction of\\nthe western and eastern parts of the Mediterranean Basin and, by means of the\\nSicilian Strait and Sardinian Channel, feature the African mainland's\\nsecond and third nearest points to Europe after Gibraltar.\"]\n",
      "['tunisia', 'officially', 'republic', 'tunisia', 'country', 'maghreb', 'region', 'north', 'africa', 'covering', '163610', 'square', 'kilometres', '63170', 'square', 'miles', 'its', 'northernmost', 'point', 'cape', 'angela', 'also', 'northernmost', 'point', 'african', 'continent', 'tunisia', 'bordered', 'algeria', 'west', 'southwest', 'libya', 'southeast', 'mediterranean', 'sea', 'north', 'east', 'tunisias', 'population', '115', 'million', '2017tunisias', 'name', 'derived', 'capital', 'city', 'tunis', 'berber', 'native', 'name', 'tunest', 'located', 'northeast', 'coast', 'geographically', 'tunisia', 'contains', 'eastern', 'end', 'atlas', 'mountains', 'northern', 'reaches', 'sahara', 'desert', 'much', 'rest', 'countrys', 'land', 'fertile', 'soil', 'its', '1300', 'kilometres', '810', 'miles', 'coastline', 'include', 'african', 'conjunction', 'western', 'eastern', 'parts', 'mediterranean', 'basin', 'means', 'sicilian', 'strait', 'sardinian', 'channel', 'feature', 'african', 'mainlands', 'second', 'third', 'nearest', 'points', 'europe', 'gibraltar']\n",
      "3\n"
     ]
    }
   ],
   "source": [
    "text = DOCUMENT\n",
    "tokenized_sentence = sent_tokenize(text)\n",
    "print(tokenized_sentence)\n",
    "text = remove_special_characters(str(text))\n",
    "tokenized_words_with_stopwords = word_tokenize(text)\n",
    "tokenized_words = [word for word in tokenized_words_with_stopwords if word not in Stopwords]\n",
    "tokenized_words = [word for word in tokenized_words if len(word) > 1]\n",
    "tokenized_words = [word.lower() for word in tokenized_words]\n",
    "print(tokenized_words)\n",
    "word_freq = freq(tokenized_words)\n",
    "no_of_sentences = 3\n",
    "print(no_of_sentences)"
   ]
  },
  {
   "cell_type": "code",
   "execution_count": 12,
   "metadata": {},
   "outputs": [
    {
     "name": "stdout",
     "output_type": "stream",
     "text": [
      "Summary:\n",
      "Tunisia is bordered by Algeria to the west and southwest, Libya to the\n",
      "southeast, and the Mediterranean Sea to the north and east. Geographically, Tunisia contains the eastern end of the Atlas Mountains, and the\n",
      "northern reaches of the Sahara desert. Its 1,300 kilometres (810\n",
      "miles) of coastline include the African conjunction of\n",
      "the western and eastern parts of the Mediterranean Basin and, by means of the\n",
      "Sicilian Strait and Sardinian Channel, feature the African mainland's\n",
      "second and third nearest points to Europe after Gibraltar.\n"
     ]
    }
   ],
   "source": [
    "c = 1\n",
    "sentence_with_importance = {}\n",
    "for sent in tokenized_sentence:\n",
    "    sentenceimp = sentence_importance(sent,word_freq,tokenized_sentence)\n",
    "    sentence_with_importance[c] = sentenceimp\n",
    "    c = c+1\n",
    "sentence_with_importance = sorted(sentence_with_importance.items(),\n",
    "key=operator.itemgetter(1),reverse=True)\n",
    "cnt = 0\n",
    "summary = []\n",
    "sentence_no = []\n",
    "for word_prob in sentence_with_importance:\n",
    "    if cnt < no_of_sentences:\n",
    "        sentence_no.append(word_prob[0])\n",
    "        cnt = cnt+1\n",
    "    else:\n",
    "        break\n",
    "sentence_no.sort()\n",
    "cnt = 0\n",
    "for sentence in tokenized_sentence:\n",
    "    if cnt in sentence_no:\n",
    "        summary.append(sentence)\n",
    "    cnt = cnt+1\n",
    "summary = \" \".join(summary)\n",
    "print(\"Summary:\")\n",
    "print(summary)"
   ]
  },
  {
   "cell_type": "markdown",
   "metadata": {},
   "source": [
    "# Text Summarization using TextRank Algorithm"
   ]
  },
  {
   "cell_type": "code",
   "execution_count": 14,
   "metadata": {},
   "outputs": [
    {
     "name": "stderr",
     "output_type": "stream",
     "text": [
      "[nltk_data] Downloading package stopwords to C:\\Users\\jannett\n",
      "[nltk_data]     chabbeh\\AppData\\Roaming\\nltk_data...\n",
      "[nltk_data]   Package stopwords is already up-to-date!\n",
      "[nltk_data] Downloading package punkt to C:\\Users\\jannett\n",
      "[nltk_data]     chabbeh\\AppData\\Roaming\\nltk_data...\n",
      "[nltk_data]   Package punkt is already up-to-date!\n"
     ]
    }
   ],
   "source": [
    "import re\n",
    "import math\n",
    "import operator\n",
    "import nltk\n",
    "import string\n",
    "nltk.download('stopwords')\n",
    "nltk.download('punkt')\n",
    "stopword_list = nltk.corpus.stopwords.words('english')\n",
    "DOCUMENT = \"\"\"Tunisia officially the Republic of Tunisia is a country in the Maghreb region of North Africa, covering 163,610 square kilometres (63,\n",
    "170 square miles). Its northernmost point, Cape Angela, is also the northernmost point on the African continent.\n",
    "Tunisia is bordered by Algeria to the west and southwest, Libya to the southeast, and the Mediterranean Sea to the north and east.\n",
    "Tunisia's population was 11.5 million in 2017.Tunisia's name is derived from its capital city, Tunis (Berber native name: Tunest),\n",
    "which is located on its northeast coast. Geographically, Tunisia contains the eastern end of the Atlas Mountains, and the northern reaches of the Sahara desert.\n",
    "Much of the rest of the country's land is fertile soil. Its 1,300 kilometres (810 miles) of coastline include the African conjunction of\n",
    "the western and eastern parts of the Mediterranean Basin and, by means of the Sicilian Strait and Sardinian Channel, feature the African mainland's\n",
    "second and third nearest points to Europe after Gibraltar. \"\"\""
   ]
  },
  {
   "cell_type": "code",
   "execution_count": 15,
   "metadata": {},
   "outputs": [],
   "source": [
    "def parse_document(document):\n",
    "    document = document.strip()\n",
    "    sentences = nltk.sent_tokenize(document)\n",
    "    sentences = [sentence.strip() for sentence in sentences]\n",
    "    return sentences"
   ]
  },
  {
   "cell_type": "code",
   "execution_count": 16,
   "metadata": {},
   "outputs": [],
   "source": [
    "def tokenize_text(text):\n",
    "    tokens = nltk.word_tokenize(text)\n",
    "    tokens = [token.strip() for token in tokens]\n",
    "    return tokens"
   ]
  },
  {
   "cell_type": "code",
   "execution_count": 17,
   "metadata": {},
   "outputs": [],
   "source": [
    "def remove_special_characters(text):\n",
    "    tokens = tokenize_text(text)\n",
    "    pattern = re.compile('[{}]'.format(re.escape(string.punctuation)))\n",
    "    filtered_tokens = filter(None, [pattern.sub('', token) for token in tokens])\n",
    "    filtered_text = ' '.join(filtered_tokens)\n",
    "    return filtered_text"
   ]
  },
  {
   "cell_type": "code",
   "execution_count": 18,
   "metadata": {},
   "outputs": [],
   "source": [
    "def remove_stopwords(text):\n",
    "    tokens = tokenize_text(text)\n",
    "    filtered_tokens = [token for token in tokens if token not in\n",
    "    stopword_list]\n",
    "    filtered_text = ' '.join(filtered_tokens)\n",
    "    return filtered_text"
   ]
  },
  {
   "cell_type": "code",
   "execution_count": 20,
   "metadata": {},
   "outputs": [],
   "source": [
    "def normalize_corpus(corpus, tokenize=False):\n",
    "    normalized_corpus = []\n",
    "    for text in corpus:\n",
    "        text = remove_special_characters(text)\n",
    "        text = remove_stopwords(text)\n",
    "        normalized_corpus.append(text)\n",
    "    if tokenize:\n",
    "        text = tokenize_text(text)\n",
    "        normalized_corpus.append(text)\n",
    "    return normalized_corpus"
   ]
  },
  {
   "cell_type": "code",
   "execution_count": 22,
   "metadata": {},
   "outputs": [
    {
     "data": {
      "text/plain": [
       "['Tunisia officially the Republic of Tunisia is a country in the Maghreb region of North Africa, covering 163,610 square kilometres (63,\\n170 square miles).',\n",
       " 'Its northernmost point, Cape Angela, is also the northernmost point on the African continent.',\n",
       " 'Tunisia is bordered by Algeria to the west and southwest, Libya to the southeast, and the Mediterranean Sea to the north and east.',\n",
       " \"Tunisia's population was 11.5 million in 2017.Tunisia's name is derived from its capital city, Tunis (Berber native name: Tunest),\\nwhich is located on its northeast coast.\",\n",
       " 'Geographically, Tunisia contains the eastern end of the Atlas Mountains, and the northern reaches of the Sahara desert.',\n",
       " \"Much of the rest of the country's land is fertile soil.\",\n",
       " \"Its 1,300 kilometres (810 miles) of coastline include the African conjunction of\\nthe western and eastern parts of the Mediterranean Basin and, by means of the Sicilian Strait and Sardinian Channel, feature the African mainland's\\nsecond and third nearest points to Europe after Gibraltar.\"]"
      ]
     },
     "execution_count": 22,
     "metadata": {},
     "output_type": "execute_result"
    }
   ],
   "source": [
    "sentences = parse_document(DOCUMENT)\n",
    "sentences"
   ]
  },
  {
   "cell_type": "code",
   "execution_count": 23,
   "metadata": {},
   "outputs": [
    {
     "name": "stdout",
     "output_type": "stream",
     "text": [
      "Total Sentences: 7\n"
     ]
    }
   ],
   "source": [
    "norm_sentences = normalize_corpus(sentences,tokenize=False)\n",
    "print (\"Total Sentences:\", len(norm_sentences))"
   ]
  },
  {
   "cell_type": "code",
   "execution_count": 24,
   "metadata": {},
   "outputs": [],
   "source": [
    "num_sentences = 3\n",
    "from sklearn.feature_extraction.text import CountVectorizer, TfidfVectorizer\n",
    "def build_feature_matrix(documents, feature_type='frequency'):\n",
    "    feature_type = feature_type.lower().strip()\n",
    "    if feature_type == 'frequency':\n",
    "        vectorizer = CountVectorizer()\n",
    "    elif feature_type == 'tfidf':\n",
    "        vectorizer = TfidfVectorizer()\n",
    "    else:\n",
    "        raise Exception(\"Wrong feature type entered. Possible values: 'frequency', 'tfidf'\")\n",
    "    feature_matrix = vectorizer.fit_transform(documents).astype(float)\n",
    "    return vectorizer, feature_matrix"
   ]
  },
  {
   "cell_type": "code",
   "execution_count": 26,
   "metadata": {},
   "outputs": [
    {
     "name": "stdout",
     "output_type": "stream",
     "text": [
      "[[1.   0.   0.11 0.04 0.06 0.07 0.06]\n",
      " [0.   1.   0.   0.   0.   0.   0.11]\n",
      " [0.11 0.   1.   0.03 0.04 0.   0.04]\n",
      " [0.04 0.   0.03 1.   0.03 0.   0.  ]\n",
      " [0.06 0.   0.04 0.03 1.   0.   0.04]\n",
      " [0.07 0.   0.   0.   0.   1.   0.  ]\n",
      " [0.06 0.11 0.04 0.   0.04 0.   1.  ]]\n"
     ]
    }
   ],
   "source": [
    "import numpy as np \n",
    "# construct weighted document term matrix\n",
    "vec, dt_matrix = build_feature_matrix(norm_sentences,feature_type='tfidf')\n",
    "# construct the document similarity matrix\n",
    "similarity_matrix = (dt_matrix * dt_matrix.T)\n",
    "# view the document similarity matrix\n",
    "print (np.round(similarity_matrix.todense(), 2))"
   ]
  },
  {
   "cell_type": "code",
   "execution_count": 27,
   "metadata": {},
   "outputs": [
    {
     "name": "stderr",
     "output_type": "stream",
     "text": [
      "C:\\ProgramData\\Anaconda3\\lib\\site-packages\\networkx\\drawing\\nx_pylab.py:579: MatplotlibDeprecationWarning: \n",
      "The iterable function was deprecated in Matplotlib 3.1 and will be removed in 3.3. Use np.iterable instead.\n",
      "  if not cb.iterable(width):\n"
     ]
    }
   ],
   "source": [
    "from networkx import *\n",
    "# build the similarity graph\n",
    "similarity_graph = networkx.from_scipy_sparse_matrix(similarity_matrix)\n",
    "# view the similarity graph\n",
    "networkx.draw_networkx(similarity_graph)"
   ]
  },
  {
   "cell_type": "code",
   "execution_count": 28,
   "metadata": {},
   "outputs": [
    {
     "data": {
      "text/plain": [
       "[(0.15479579708834373, 0),\n",
       " (0.1473809849304178, 6),\n",
       " (0.14334556405548027, 2),\n",
       " (0.14047671638580198, 4),\n",
       " (0.13829956587083783, 1),\n",
       " (0.13815019218530358, 3),\n",
       " (0.13755117948381457, 5)]"
      ]
     },
     "execution_count": 28,
     "metadata": {},
     "output_type": "execute_result"
    }
   ],
   "source": [
    "# compute pagerank scores for all the sentences\n",
    "scores = networkx.pagerank(similarity_graph)\n",
    "# rank sentences based on their scores\n",
    "ranked_sentences = sorted(((score, index)\n",
    "                            for index, score\n",
    "                            in scores.items()),\n",
    "                            reverse=True)\n",
    "# view the ranked sentences\n",
    "ranked_sentences"
   ]
  },
  {
   "cell_type": "code",
   "execution_count": 29,
   "metadata": {},
   "outputs": [
    {
     "name": "stdout",
     "output_type": "stream",
     "text": [
      "[0, 2, 6]\n"
     ]
    }
   ],
   "source": [
    "# get the top sentence indices for our summary\n",
    "top_sentence_indices = [ranked_sentences[index][1]\n",
    "for index in range(num_sentences)]\n",
    "top_sentence_indices.sort()\n",
    "# view the top sentence indices\n",
    "print (top_sentence_indices)"
   ]
  },
  {
   "cell_type": "code",
   "execution_count": 30,
   "metadata": {},
   "outputs": [
    {
     "name": "stdout",
     "output_type": "stream",
     "text": [
      "Tunisia officially the Republic of Tunisia is a country in the Maghreb region of North Africa, covering 163,610 square kilometres (63,\n",
      "170 square miles).\n",
      "Tunisia is bordered by Algeria to the west and southwest, Libya to the southeast, and the Mediterranean Sea to the north and east.\n",
      "Its 1,300 kilometres (810 miles) of coastline include the African conjunction of\n",
      "the western and eastern parts of the Mediterranean Basin and, by means of the Sicilian Strait and Sardinian Channel, feature the African mainland's\n",
      "second and third nearest points to Europe after Gibraltar.\n"
     ]
    }
   ],
   "source": [
    "# construct the document summary\n",
    "for index in top_sentence_indices:\n",
    "    print (sentences[index])"
   ]
  },
  {
   "cell_type": "code",
   "execution_count": 32,
   "metadata": {},
   "outputs": [
    {
     "name": "stdout",
     "output_type": "stream",
     "text": [
      "summary:\n",
      "Tunisia officially the Republic of Tunisia is a country in the Maghreb region of North Africa, covering 163,610 square kilometres (63,\n",
      "170 square miles).\n",
      "Tunisia is bordered by Algeria to the west and southwest, Libya to the southeast, and the Mediterranean Sea to the north and east.\n",
      "Its 1,300 kilometres (810 miles) of coastline include the African conjunction of\n",
      "the western and eastern parts of the Mediterranean Basin and, by means of the Sicilian Strait and Sardinian Channel, feature the African mainland's\n",
      "second and third nearest points to Europe after Gibraltar.\n"
     ]
    }
   ],
   "source": [
    "def textrank_text_summarizer(documents, num_sentences=3,feature_type='frequency'):\n",
    "    vec, dt_matrix = build_feature_matrix(norm_sentences,feature_type='tfidf')\n",
    "    similarity_matrix = (dt_matrix * dt_matrix.T)\n",
    "    similarity_graph = networkx.from_scipy_sparse_matrix(similarity_matrix)\n",
    "    scores = networkx.pagerank(similarity_graph)\n",
    "    ranked_sentences = sorted(((score, index)\n",
    "                                for index, score\n",
    "                                in scores.items()),\n",
    "                                reverse=True)\n",
    "    top_sentence_indices = [ranked_sentences[index][1] for index in range(num_sentences)]\n",
    "    top_sentence_indices.sort()\n",
    "    for index in top_sentence_indices:\n",
    "        print (sentences[index])\n",
    "print(\"summary:\")\n",
    "textrank_text_summarizer(norm_sentences, num_sentences=3, feature_type='tfidf')"
   ]
  },
  {
   "cell_type": "markdown",
   "metadata": {},
   "source": [
    "# Text Summarization using LSA (Latent Semantic Analysis) Algorithm"
   ]
  },
  {
   "cell_type": "code",
   "execution_count": 33,
   "metadata": {},
   "outputs": [
    {
     "name": "stderr",
     "output_type": "stream",
     "text": [
      "[nltk_data] Downloading package stopwords to C:\\Users\\jannett\n",
      "[nltk_data]     chabbeh\\AppData\\Roaming\\nltk_data...\n",
      "[nltk_data]   Package stopwords is already up-to-date!\n",
      "[nltk_data] Downloading package punkt to C:\\Users\\jannett\n",
      "[nltk_data]     chabbeh\\AppData\\Roaming\\nltk_data...\n",
      "[nltk_data]   Package punkt is already up-to-date!\n"
     ]
    }
   ],
   "source": [
    "import numpy as np\n",
    "import re\n",
    "import math\n",
    "import operator\n",
    "import nltk\n",
    "import string\n",
    "nltk.download('stopwords')\n",
    "nltk.download('punkt')\n",
    "stopword_list = nltk.corpus.stopwords.words('english')\n",
    "DOCUMENT = \"\"\"Tunisia officially the Republic of Tunisia is a country in t\n",
    "he Maghreb region of North Africa, covering 163,610 square kilometres (63,\n",
    "170\n",
    "square miles). Its northernmost point, Cape Angela, is also the northernmo\n",
    "st point on the African continent.\n",
    "Tunisia is bordered by Algeria to the west and southwest, Libya to the so\n",
    "utheast, and the Mediterranean Sea to the north and east.\n",
    "Tunisia's population was 11.5 million in 2017.Tunisia's name is derived f\n",
    "rom its capital city, Tunis (Berber native name: Tunest),\n",
    "which is located on its northeast coast.\n",
    "Geographically, Tunisia contains the eastern end of the Atlas Mountains, a\n",
    "nd the northern reaches of the Sahara desert.\n",
    "Much of the rest of the country's land is fertile soil. Its 1,300 kilometr\n",
    "es (810 miles) of coastline include the African conjunction of\n",
    "the western and eastern parts of the Mediterranean Basin and, by means of\n",
    "the Sicilian Strait and Sardinian Channel, feature the African mainland's\n",
    "second and third nearest points to Europe after Gibraltar. \"\"\""
   ]
  },
  {
   "cell_type": "code",
   "execution_count": null,
   "metadata": {},
   "outputs": [],
   "source": []
  },
  {
   "cell_type": "code",
   "execution_count": 15,
   "metadata": {},
   "outputs": [],
   "source": [
    "def parse_document(document):\n",
    "    document = document.strip()\n",
    "    sentences = nltk.sent_tokenize(document)\n",
    "    sentences = [sentence.strip() for sentence in sentences]\n",
    "    return sentences"
   ]
  },
  {
   "cell_type": "code",
   "execution_count": 16,
   "metadata": {},
   "outputs": [],
   "source": [
    "def tokenize_text(text):\n",
    "    tokens = nltk.word_tokenize(text)\n",
    "    tokens = [token.strip() for token in tokens]\n",
    "    return tokens"
   ]
  },
  {
   "cell_type": "code",
   "execution_count": 17,
   "metadata": {},
   "outputs": [],
   "source": [
    "def remove_special_characters(text):\n",
    "    tokens = tokenize_text(text)\n",
    "    pattern = re.compile('[{}]'.format(re.escape(string.punctuation)))\n",
    "    filtered_tokens = filter(None, [pattern.sub('', token) for token in tokens])\n",
    "    filtered_text = ' '.join(filtered_tokens)\n",
    "    return filtered_text"
   ]
  },
  {
   "cell_type": "code",
   "execution_count": 18,
   "metadata": {},
   "outputs": [],
   "source": [
    "def remove_stopwords(text):\n",
    "    tokens = tokenize_text(text)\n",
    "    filtered_tokens = [token for token in tokens if token not in\n",
    "    stopword_list]\n",
    "    filtered_text = ' '.join(filtered_tokens)\n",
    "    return filtered_text"
   ]
  },
  {
   "cell_type": "code",
   "execution_count": 20,
   "metadata": {},
   "outputs": [],
   "source": [
    "def normalize_corpus(corpus, tokenize=False):\n",
    "    normalized_corpus = []\n",
    "    for text in corpus:\n",
    "        text = remove_special_characters(text)\n",
    "        text = remove_stopwords(text)\n",
    "        normalized_corpus.append(text)\n",
    "    if tokenize:\n",
    "        text = tokenize_text(text)\n",
    "        normalized_corpus.append(text)\n",
    "    return normalized_corpus"
   ]
  },
  {
   "cell_type": "code",
   "execution_count": 35,
   "metadata": {},
   "outputs": [
    {
     "name": "stdout",
     "output_type": "stream",
     "text": [
      "Total Sentences: 7\n"
     ]
    }
   ],
   "source": [
    "sentences = parse_document(DOCUMENT)\n",
    "norm_sentences = normalize_corpus(sentences,tokenize=False)\n",
    "print (\"Total Sentences:\", len(norm_sentences))"
   ]
  },
  {
   "cell_type": "code",
   "execution_count": 24,
   "metadata": {},
   "outputs": [],
   "source": [
    "num_sentences = 3\n",
    "from sklearn.feature_extraction.text import CountVectorizer, TfidfVectorizer\n",
    "def build_feature_matrix(documents, feature_type='frequency'):\n",
    "    feature_type = feature_type.lower().strip()\n",
    "    if feature_type == 'frequency':\n",
    "        vectorizer = CountVectorizer()\n",
    "    elif feature_type == 'tfidf':\n",
    "        vectorizer = TfidfVectorizer()\n",
    "    else:\n",
    "        raise Exception(\"Wrong feature type entered. Possible values: 'frequency', 'tfidf'\")\n",
    "    feature_matrix = vectorizer.fit_transform(documents).astype(float)\n",
    "    return vectorizer, feature_matrix"
   ]
  },
  {
   "cell_type": "code",
   "execution_count": 37,
   "metadata": {},
   "outputs": [],
   "source": [
    "# set the number of sentences and topics for summarized document\n",
    "num_sentences = 3\n",
    "num_topics = 3\n",
    "# build document term matrix based on bag of words features\n",
    "vec, dt_matrix = build_feature_matrix(sentences,feature_type='frequency')\n",
    "# convert to term document matrix\n",
    "td_matrix = dt_matrix.transpose()\n",
    "td_matrix = td_matrix.multiply(td_matrix > 0)"
   ]
  },
  {
   "cell_type": "code",
   "execution_count": 38,
   "metadata": {},
   "outputs": [
    {
     "name": "stdout",
     "output_type": "stream",
     "text": [
      "[3.49 2.08 5.17 5.3  3.99 2.39 9.1 ]\n",
      "[2 3 6]\n",
      "Tunisia is bordered by Algeria to the west and southwest, Libya to the so\n",
      "utheast, and the Mediterranean Sea to the north and east.\n",
      "Tunisia's population was 11.5 million in 2017.Tunisia's name is derived f\n",
      "rom its capital city, Tunis (Berber native name: Tunest),\n",
      "which is located on its northeast coast.\n",
      "Its 1,300 kilometr\n",
      "es (810 miles) of coastline include the African conjunction of\n",
      "the western and eastern parts of the Mediterranean Basin and, by means of\n",
      "the Sicilian Strait and Sardinian Channel, feature the African mainland's\n",
      "second and third nearest points to Europe after Gibraltar.\n"
     ]
    }
   ],
   "source": [
    "from scipy.sparse.linalg import svds\n",
    "def low_rank_svd(matrix, singular_count=2):\n",
    "    u, s, vt = svds(matrix, k=singular_count)\n",
    "    return u, s, vt\n",
    "# get low rank SVD components\n",
    "u, s, vt = low_rank_svd(td_matrix, singular_count=num_topics)\n",
    "# remove singular values below threshold\n",
    "sv_threshold = 0.5\n",
    "min_sigma_value = max(s) * sv_threshold\n",
    "s[s < min_sigma_value] = 0\n",
    "# compute salience scores for all sentences in document\n",
    "salience_scores = np.sqrt(np.dot(np.square(s), np.square(vt)))\n",
    "# print salience score for each sentence\n",
    "print (np.round(salience_scores, 2))\n",
    "# rank sentences based on their salience scores\n",
    "top_sentence_indices = salience_scores.argsort()[-num_sentences:][::-1]\n",
    "top_sentence_indices.sort()\n",
    "# view top sentence index positions\n",
    "print (top_sentence_indices)\n",
    "# get document summary by combining above sentences\n",
    "for index in top_sentence_indices:\n",
    "    print (sentences[index])"
   ]
  },
  {
   "cell_type": "code",
   "execution_count": 39,
   "metadata": {},
   "outputs": [
    {
     "name": "stdout",
     "output_type": "stream",
     "text": [
      "summary:\n",
      "Tunisia officially the Republic of Tunisia is a country in t\n",
      "he Maghreb region of North Africa, covering 163,610 square kilometres (63,\n",
      "170\n",
      "square miles).\n",
      "Tunisia's population was 11.5 million in 2017.Tunisia's name is derived f\n",
      "rom its capital city, Tunis (Berber native name: Tunest),\n",
      "which is located on its northeast coast.\n",
      "Its 1,300 kilometr\n",
      "es (810 miles) of coastline include the African conjunction of\n",
      "the western and eastern parts of the Mediterranean Basin and, by means of\n",
      "the Sicilian Strait and Sardinian Channel, feature the African mainland's\n",
      "second and third nearest points to Europe after Gibraltar.\n"
     ]
    }
   ],
   "source": [
    "def lsa_text_summarizer(documents, num_sentences=2,num_topics=2, feature_type='frequency',sv_threshold=0.5):\n",
    "    vec, dt_matrix = build_feature_matrix(documents,feature_type=feature_type)\n",
    "    td_matrix = dt_matrix.transpose()\n",
    "    td_matrix = td_matrix.multiply(td_matrix > 0)\n",
    "    u, s, vt = low_rank_svd(td_matrix, singular_count=num_topics)\n",
    "    min_sigma_value = max(s) * sv_threshold\n",
    "    s[s < min_sigma_value] = 0\n",
    "    salience_scores = np.sqrt(np.dot(np.square(s), np.square(vt)))\n",
    "    top_sentence_indices = salience_scores.argsort()[-num_sentences:][::-1]\n",
    "    top_sentence_indices.sort()\n",
    "    for index in top_sentence_indices:\n",
    "        print (sentences[index])\n",
    "print(\"summary:\")\n",
    "# LSA document summarization\n",
    "lsa_text_summarizer(norm_sentences, num_sentences=3,num_topics=5, feature_type='frequency',sv_threshold=0.5)"
   ]
  },
  {
   "cell_type": "code",
   "execution_count": null,
   "metadata": {},
   "outputs": [],
   "source": []
  }
 ],
 "metadata": {
  "kernelspec": {
   "display_name": "Python 3",
   "language": "python",
   "name": "python3"
  },
  "language_info": {
   "codemirror_mode": {
    "name": "ipython",
    "version": 3
   },
   "file_extension": ".py",
   "mimetype": "text/x-python",
   "name": "python",
   "nbconvert_exporter": "python",
   "pygments_lexer": "ipython3",
   "version": "3.7.4"
  }
 },
 "nbformat": 4,
 "nbformat_minor": 2
}
